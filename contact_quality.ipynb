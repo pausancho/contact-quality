{
 "cells": [
  {
   "cell_type": "markdown",
   "metadata": {},
   "source": [
    "# SF Giants Grading Contact Quality"
   ]
  },
  {
   "cell_type": "markdown",
   "metadata": {},
   "source": [
    "The following project presents an algorithm to grade quality of contact of batted balls and trains three ML models to predict the grades.\n",
    "\n",
    "The notebook contains a description of the data exploration, data cleaning, methodology used to grade the contact quality and the ML model testing and assesment. "
   ]
  },
  {
   "cell_type": "markdown",
   "metadata": {},
   "source": [
    "## Index\n",
    "\n",
    "* [Data Exploration](#Data-Exploration)\n",
    "\n",
    "* [Data Cleaning](#Data-Cleaning)\n",
    "\n",
    "* [Methodology and Design Decision](#Methodology-and-Design-Decision)\n",
    "\n",
    "* [Data Modeling](#Data-Modeling)\n",
    "\n",
    "* [Models](#Models)\n",
    "\n",
    "    - [Logistic Regression](#Logistic-Regression)\n",
    "    - [Support Vector Machine Classifier](#Support-Vector-Machine-Classifier)\n",
    "    - [Random Forest Classifier](#Random-Forest-Classifier)\n",
    "\n",
    "\n",
    "* [Conclusions and Future Work](#Conclusions-and-Future-Work)"
   ]
  },
  {
   "cell_type": "markdown",
   "metadata": {},
   "source": [
    "---"
   ]
  },
  {
   "cell_type": "markdown",
   "metadata": {},
   "source": [
    "## Data Exploration"
   ]
  },
  {
   "cell_type": "markdown",
   "metadata": {},
   "source": [
    "To begin with I am going to import the necessary libraries to work with the dataset. Then I´ll import the data directly for the Google Drive URL so I can read the data without the need of downloading it. \n",
    "\n",
    "Onece I have the data, I´ll start to explor it by looking at the whole dataframe, how many columns and rows it has, if there are any null values, I´ll check that all data types are correct and I´ll look at main statistics to see if there are any clear inconsistencies.\n",
    "\n",
    "Finally, I´ll look for outliers to see if I need to remove them. "
   ]
  },
  {
   "cell_type": "code",
   "execution_count": 1,
   "metadata": {},
   "outputs": [],
   "source": [
    "import pandas as pd\n",
    "import numpy as np\n",
    "import matplotlib.pyplot as plt\n",
    "import seaborn as sns\n",
    "from NBprocessing import NBcategorical, NBcontinuous, NBplot, NBgeneral\n",
    "from numpy import mean\n",
    "from numpy import std\n",
    "%matplotlib inline"
   ]
  },
  {
   "cell_type": "code",
   "execution_count": 2,
   "metadata": {},
   "outputs": [],
   "source": [
    "\"\"\"DATA PREPROCESSING\"\"\"\n",
    "# read data file\n",
    "sheet_url = \"https://docs.google.com/spreadsheets/d/1gKK_SBLbIEjfrctR7JcIUGku0uT2IHoh6ws9Zn5eXEI/edit#gid=1768011893\"\n",
    "csv_export_url = sheet_url.replace('/edit#gid=', '/export?format=csv&gid=')\n",
    "df = pd.read_csv(csv_export_url)"
   ]
  },
  {
   "cell_type": "markdown",
   "metadata": {},
   "source": [
    "#### Understanding the dataset"
   ]
  },
  {
   "cell_type": "code",
   "execution_count": 3,
   "metadata": {},
   "outputs": [
    {
     "data": {
      "text/html": [
       "<div>\n",
       "<style scoped>\n",
       "    .dataframe tbody tr th:only-of-type {\n",
       "        vertical-align: middle;\n",
       "    }\n",
       "\n",
       "    .dataframe tbody tr th {\n",
       "        vertical-align: top;\n",
       "    }\n",
       "\n",
       "    .dataframe thead th {\n",
       "        text-align: right;\n",
       "    }\n",
       "</style>\n",
       "<table border=\"1\" class=\"dataframe\">\n",
       "  <thead>\n",
       "    <tr style=\"text-align: right;\">\n",
       "      <th></th>\n",
       "      <th>RowNum</th>\n",
       "      <th>pa_of_inning</th>\n",
       "      <th>pitch_of_pa</th>\n",
       "      <th>batter_side</th>\n",
       "      <th>pitcher_throws</th>\n",
       "      <th>outs</th>\n",
       "      <th>balls</th>\n",
       "      <th>strikes</th>\n",
       "      <th>tagged_pitch_type</th>\n",
       "      <th>hit_type</th>\n",
       "      <th>play_result</th>\n",
       "      <th>exit_speed</th>\n",
       "      <th>angle</th>\n",
       "      <th>direction</th>\n",
       "      <th>distance</th>\n",
       "      <th>bearing</th>\n",
       "    </tr>\n",
       "  </thead>\n",
       "  <tbody>\n",
       "    <tr>\n",
       "      <th>0</th>\n",
       "      <td>1</td>\n",
       "      <td>1</td>\n",
       "      <td>1</td>\n",
       "      <td>Left</td>\n",
       "      <td>Right</td>\n",
       "      <td>0</td>\n",
       "      <td>0</td>\n",
       "      <td>0</td>\n",
       "      <td>Fastball</td>\n",
       "      <td>FlyBall</td>\n",
       "      <td>Out</td>\n",
       "      <td>97.59</td>\n",
       "      <td>37.44</td>\n",
       "      <td>22.93</td>\n",
       "      <td>357.86</td>\n",
       "      <td>32.90</td>\n",
       "    </tr>\n",
       "    <tr>\n",
       "      <th>1</th>\n",
       "      <td>2</td>\n",
       "      <td>3</td>\n",
       "      <td>3</td>\n",
       "      <td>Left</td>\n",
       "      <td>Right</td>\n",
       "      <td>2</td>\n",
       "      <td>1</td>\n",
       "      <td>1</td>\n",
       "      <td>ChangeUp</td>\n",
       "      <td>FlyBall</td>\n",
       "      <td>HomeRun</td>\n",
       "      <td>106.43</td>\n",
       "      <td>22.34</td>\n",
       "      <td>-0.55</td>\n",
       "      <td>406.45</td>\n",
       "      <td>-11.34</td>\n",
       "    </tr>\n",
       "    <tr>\n",
       "      <th>2</th>\n",
       "      <td>3</td>\n",
       "      <td>1</td>\n",
       "      <td>2</td>\n",
       "      <td>Left</td>\n",
       "      <td>Right</td>\n",
       "      <td>0</td>\n",
       "      <td>1</td>\n",
       "      <td>0</td>\n",
       "      <td>Slider</td>\n",
       "      <td>GroundBall</td>\n",
       "      <td>Out</td>\n",
       "      <td>79.62</td>\n",
       "      <td>-17.73</td>\n",
       "      <td>14.80</td>\n",
       "      <td>17.42</td>\n",
       "      <td>14.80</td>\n",
       "    </tr>\n",
       "    <tr>\n",
       "      <th>3</th>\n",
       "      <td>4</td>\n",
       "      <td>2</td>\n",
       "      <td>5</td>\n",
       "      <td>Right</td>\n",
       "      <td>Right</td>\n",
       "      <td>1</td>\n",
       "      <td>2</td>\n",
       "      <td>2</td>\n",
       "      <td>Fastball</td>\n",
       "      <td>FlyBall</td>\n",
       "      <td>Out</td>\n",
       "      <td>101.62</td>\n",
       "      <td>33.26</td>\n",
       "      <td>-10.41</td>\n",
       "      <td>365.32</td>\n",
       "      <td>-9.54</td>\n",
       "    </tr>\n",
       "    <tr>\n",
       "      <th>4</th>\n",
       "      <td>5</td>\n",
       "      <td>2</td>\n",
       "      <td>1</td>\n",
       "      <td>Left</td>\n",
       "      <td>Left</td>\n",
       "      <td>1</td>\n",
       "      <td>0</td>\n",
       "      <td>0</td>\n",
       "      <td>Fastball</td>\n",
       "      <td>LineDrive</td>\n",
       "      <td>Out</td>\n",
       "      <td>96.49</td>\n",
       "      <td>18.54</td>\n",
       "      <td>23.04</td>\n",
       "      <td>289.52</td>\n",
       "      <td>30.02</td>\n",
       "    </tr>\n",
       "    <tr>\n",
       "      <th>5</th>\n",
       "      <td>6</td>\n",
       "      <td>2</td>\n",
       "      <td>4</td>\n",
       "      <td>Left</td>\n",
       "      <td>Right</td>\n",
       "      <td>1</td>\n",
       "      <td>1</td>\n",
       "      <td>2</td>\n",
       "      <td>Splitter</td>\n",
       "      <td>GroundBall</td>\n",
       "      <td>Out</td>\n",
       "      <td>87.40</td>\n",
       "      <td>-3.42</td>\n",
       "      <td>42.64</td>\n",
       "      <td>20.21</td>\n",
       "      <td>36.39</td>\n",
       "    </tr>\n",
       "    <tr>\n",
       "      <th>6</th>\n",
       "      <td>7</td>\n",
       "      <td>3</td>\n",
       "      <td>2</td>\n",
       "      <td>Right</td>\n",
       "      <td>Left</td>\n",
       "      <td>2</td>\n",
       "      <td>1</td>\n",
       "      <td>0</td>\n",
       "      <td>Fastball</td>\n",
       "      <td>GroundBall</td>\n",
       "      <td>Single</td>\n",
       "      <td>101.32</td>\n",
       "      <td>11.66</td>\n",
       "      <td>-7.72</td>\n",
       "      <td>202.71</td>\n",
       "      <td>-11.09</td>\n",
       "    </tr>\n",
       "    <tr>\n",
       "      <th>7</th>\n",
       "      <td>8</td>\n",
       "      <td>3</td>\n",
       "      <td>5</td>\n",
       "      <td>Left</td>\n",
       "      <td>Right</td>\n",
       "      <td>2</td>\n",
       "      <td>3</td>\n",
       "      <td>1</td>\n",
       "      <td>Slider</td>\n",
       "      <td>GroundBall</td>\n",
       "      <td>Out</td>\n",
       "      <td>99.54</td>\n",
       "      <td>-19.66</td>\n",
       "      <td>37.52</td>\n",
       "      <td>10.97</td>\n",
       "      <td>27.31</td>\n",
       "    </tr>\n",
       "    <tr>\n",
       "      <th>8</th>\n",
       "      <td>9</td>\n",
       "      <td>3</td>\n",
       "      <td>2</td>\n",
       "      <td>Left</td>\n",
       "      <td>Right</td>\n",
       "      <td>2</td>\n",
       "      <td>0</td>\n",
       "      <td>1</td>\n",
       "      <td>Slider</td>\n",
       "      <td>LineDrive</td>\n",
       "      <td>Single</td>\n",
       "      <td>86.55</td>\n",
       "      <td>14.17</td>\n",
       "      <td>16.50</td>\n",
       "      <td>240.49</td>\n",
       "      <td>19.20</td>\n",
       "    </tr>\n",
       "    <tr>\n",
       "      <th>9</th>\n",
       "      <td>10</td>\n",
       "      <td>4</td>\n",
       "      <td>2</td>\n",
       "      <td>Right</td>\n",
       "      <td>Left</td>\n",
       "      <td>2</td>\n",
       "      <td>0</td>\n",
       "      <td>1</td>\n",
       "      <td>ChangeUp</td>\n",
       "      <td>FlyBall</td>\n",
       "      <td>Out</td>\n",
       "      <td>93.10</td>\n",
       "      <td>40.92</td>\n",
       "      <td>-10.80</td>\n",
       "      <td>355.79</td>\n",
       "      <td>-6.30</td>\n",
       "    </tr>\n",
       "  </tbody>\n",
       "</table>\n",
       "</div>"
      ],
      "text/plain": [
       "   RowNum  pa_of_inning  pitch_of_pa batter_side pitcher_throws  outs  balls  \\\n",
       "0       1             1            1        Left          Right     0      0   \n",
       "1       2             3            3        Left          Right     2      1   \n",
       "2       3             1            2        Left          Right     0      1   \n",
       "3       4             2            5       Right          Right     1      2   \n",
       "4       5             2            1        Left           Left     1      0   \n",
       "5       6             2            4        Left          Right     1      1   \n",
       "6       7             3            2       Right           Left     2      1   \n",
       "7       8             3            5        Left          Right     2      3   \n",
       "8       9             3            2        Left          Right     2      0   \n",
       "9      10             4            2       Right           Left     2      0   \n",
       "\n",
       "   strikes tagged_pitch_type    hit_type play_result  exit_speed  angle  \\\n",
       "0        0          Fastball     FlyBall         Out       97.59  37.44   \n",
       "1        1          ChangeUp     FlyBall     HomeRun      106.43  22.34   \n",
       "2        0            Slider  GroundBall         Out       79.62 -17.73   \n",
       "3        2          Fastball     FlyBall         Out      101.62  33.26   \n",
       "4        0          Fastball   LineDrive         Out       96.49  18.54   \n",
       "5        2          Splitter  GroundBall         Out       87.40  -3.42   \n",
       "6        0          Fastball  GroundBall      Single      101.32  11.66   \n",
       "7        1            Slider  GroundBall         Out       99.54 -19.66   \n",
       "8        1            Slider   LineDrive      Single       86.55  14.17   \n",
       "9        1          ChangeUp     FlyBall         Out       93.10  40.92   \n",
       "\n",
       "   direction  distance  bearing  \n",
       "0      22.93    357.86    32.90  \n",
       "1      -0.55    406.45   -11.34  \n",
       "2      14.80     17.42    14.80  \n",
       "3     -10.41    365.32    -9.54  \n",
       "4      23.04    289.52    30.02  \n",
       "5      42.64     20.21    36.39  \n",
       "6      -7.72    202.71   -11.09  \n",
       "7      37.52     10.97    27.31  \n",
       "8      16.50    240.49    19.20  \n",
       "9     -10.80    355.79    -6.30  "
      ]
     },
     "execution_count": 3,
     "metadata": {},
     "output_type": "execute_result"
    }
   ],
   "source": [
    "df.head(10)"
   ]
  },
  {
   "cell_type": "code",
   "execution_count": 4,
   "metadata": {},
   "outputs": [
    {
     "data": {
      "text/plain": [
       "(122893, 16)"
      ]
     },
     "execution_count": 4,
     "metadata": {},
     "output_type": "execute_result"
    }
   ],
   "source": [
    "df.shape"
   ]
  },
  {
   "cell_type": "code",
   "execution_count": 5,
   "metadata": {},
   "outputs": [
    {
     "name": "stdout",
     "output_type": "stream",
     "text": [
      "<class 'pandas.core.frame.DataFrame'>\n",
      "RangeIndex: 122893 entries, 0 to 122892\n",
      "Data columns (total 16 columns):\n",
      " #   Column             Non-Null Count   Dtype  \n",
      "---  ------             --------------   -----  \n",
      " 0   RowNum             122893 non-null  int64  \n",
      " 1   pa_of_inning       122893 non-null  int64  \n",
      " 2   pitch_of_pa        122893 non-null  int64  \n",
      " 3   batter_side        122893 non-null  object \n",
      " 4   pitcher_throws     122893 non-null  object \n",
      " 5   outs               122893 non-null  int64  \n",
      " 6   balls              122893 non-null  int64  \n",
      " 7   strikes            122893 non-null  int64  \n",
      " 8   tagged_pitch_type  122893 non-null  object \n",
      " 9   hit_type           122893 non-null  object \n",
      " 10  play_result        122893 non-null  object \n",
      " 11  exit_speed         122789 non-null  float64\n",
      " 12  angle              122789 non-null  float64\n",
      " 13  direction          122789 non-null  float64\n",
      " 14  distance           122789 non-null  float64\n",
      " 15  bearing            122789 non-null  float64\n",
      "dtypes: float64(5), int64(6), object(5)\n",
      "memory usage: 15.0+ MB\n"
     ]
    }
   ],
   "source": [
    "df.info()"
   ]
  },
  {
   "cell_type": "code",
   "execution_count": 6,
   "metadata": {},
   "outputs": [
    {
     "data": {
      "text/plain": [
       "RowNum                 int64\n",
       "pa_of_inning           int64\n",
       "pitch_of_pa            int64\n",
       "batter_side           object\n",
       "pitcher_throws        object\n",
       "outs                   int64\n",
       "balls                  int64\n",
       "strikes                int64\n",
       "tagged_pitch_type     object\n",
       "hit_type              object\n",
       "play_result           object\n",
       "exit_speed           float64\n",
       "angle                float64\n",
       "direction            float64\n",
       "distance             float64\n",
       "bearing              float64\n",
       "dtype: object"
      ]
     },
     "execution_count": 6,
     "metadata": {},
     "output_type": "execute_result"
    }
   ],
   "source": [
    "df.dtypes"
   ]
  },
  {
   "cell_type": "code",
   "execution_count": 7,
   "metadata": {},
   "outputs": [
    {
     "data": {
      "text/html": [
       "<div>\n",
       "<style scoped>\n",
       "    .dataframe tbody tr th:only-of-type {\n",
       "        vertical-align: middle;\n",
       "    }\n",
       "\n",
       "    .dataframe tbody tr th {\n",
       "        vertical-align: top;\n",
       "    }\n",
       "\n",
       "    .dataframe thead th {\n",
       "        text-align: right;\n",
       "    }\n",
       "</style>\n",
       "<table border=\"1\" class=\"dataframe\">\n",
       "  <thead>\n",
       "    <tr style=\"text-align: right;\">\n",
       "      <th></th>\n",
       "      <th>RowNum</th>\n",
       "      <th>pa_of_inning</th>\n",
       "      <th>pitch_of_pa</th>\n",
       "      <th>outs</th>\n",
       "      <th>balls</th>\n",
       "      <th>strikes</th>\n",
       "      <th>exit_speed</th>\n",
       "      <th>angle</th>\n",
       "      <th>direction</th>\n",
       "      <th>distance</th>\n",
       "      <th>bearing</th>\n",
       "    </tr>\n",
       "  </thead>\n",
       "  <tbody>\n",
       "    <tr>\n",
       "      <th>count</th>\n",
       "      <td>122893.000000</td>\n",
       "      <td>122893.000000</td>\n",
       "      <td>122893.000000</td>\n",
       "      <td>122893.000000</td>\n",
       "      <td>122893.000000</td>\n",
       "      <td>122893.000000</td>\n",
       "      <td>122789.000000</td>\n",
       "      <td>122789.000000</td>\n",
       "      <td>122789.000000</td>\n",
       "      <td>122789.000000</td>\n",
       "      <td>122789.000000</td>\n",
       "    </tr>\n",
       "    <tr>\n",
       "      <th>mean</th>\n",
       "      <td>61447.000000</td>\n",
       "      <td>2.865574</td>\n",
       "      <td>3.412847</td>\n",
       "      <td>0.956303</td>\n",
       "      <td>1.112073</td>\n",
       "      <td>1.099876</td>\n",
       "      <td>87.741952</td>\n",
       "      <td>12.074525</td>\n",
       "      <td>-1.088212</td>\n",
       "      <td>167.034024</td>\n",
       "      <td>-0.593663</td>\n",
       "    </tr>\n",
       "    <tr>\n",
       "      <th>std</th>\n",
       "      <td>35476.297653</td>\n",
       "      <td>1.659672</td>\n",
       "      <td>1.846645</td>\n",
       "      <td>0.815157</td>\n",
       "      <td>1.012917</td>\n",
       "      <td>0.808908</td>\n",
       "      <td>14.510062</td>\n",
       "      <td>26.958108</td>\n",
       "      <td>23.035038</td>\n",
       "      <td>137.222650</td>\n",
       "      <td>25.037156</td>\n",
       "    </tr>\n",
       "    <tr>\n",
       "      <th>min</th>\n",
       "      <td>1.000000</td>\n",
       "      <td>0.000000</td>\n",
       "      <td>1.000000</td>\n",
       "      <td>0.000000</td>\n",
       "      <td>0.000000</td>\n",
       "      <td>0.000000</td>\n",
       "      <td>7.640000</td>\n",
       "      <td>-87.210000</td>\n",
       "      <td>-171.270000</td>\n",
       "      <td>0.240000</td>\n",
       "      <td>-179.920000</td>\n",
       "    </tr>\n",
       "    <tr>\n",
       "      <th>25%</th>\n",
       "      <td>30724.000000</td>\n",
       "      <td>2.000000</td>\n",
       "      <td>2.000000</td>\n",
       "      <td>0.000000</td>\n",
       "      <td>0.000000</td>\n",
       "      <td>0.000000</td>\n",
       "      <td>78.470000</td>\n",
       "      <td>-6.550000</td>\n",
       "      <td>-18.380000</td>\n",
       "      <td>21.860000</td>\n",
       "      <td>-20.560000</td>\n",
       "    </tr>\n",
       "    <tr>\n",
       "      <th>50%</th>\n",
       "      <td>61447.000000</td>\n",
       "      <td>3.000000</td>\n",
       "      <td>3.000000</td>\n",
       "      <td>1.000000</td>\n",
       "      <td>1.000000</td>\n",
       "      <td>1.000000</td>\n",
       "      <td>90.130000</td>\n",
       "      <td>12.360000</td>\n",
       "      <td>-1.490000</td>\n",
       "      <td>155.160000</td>\n",
       "      <td>-1.040000</td>\n",
       "    </tr>\n",
       "    <tr>\n",
       "      <th>75%</th>\n",
       "      <td>92170.000000</td>\n",
       "      <td>4.000000</td>\n",
       "      <td>5.000000</td>\n",
       "      <td>2.000000</td>\n",
       "      <td>2.000000</td>\n",
       "      <td>2.000000</td>\n",
       "      <td>98.870000</td>\n",
       "      <td>29.930000</td>\n",
       "      <td>15.840000</td>\n",
       "      <td>291.820000</td>\n",
       "      <td>19.070000</td>\n",
       "    </tr>\n",
       "    <tr>\n",
       "      <th>max</th>\n",
       "      <td>122893.000000</td>\n",
       "      <td>14.000000</td>\n",
       "      <td>14.000000</td>\n",
       "      <td>2.000000</td>\n",
       "      <td>4.000000</td>\n",
       "      <td>3.000000</td>\n",
       "      <td>128.860000</td>\n",
       "      <td>121.420000</td>\n",
       "      <td>177.050000</td>\n",
       "      <td>538.450000</td>\n",
       "      <td>179.660000</td>\n",
       "    </tr>\n",
       "  </tbody>\n",
       "</table>\n",
       "</div>"
      ],
      "text/plain": [
       "              RowNum   pa_of_inning    pitch_of_pa           outs  \\\n",
       "count  122893.000000  122893.000000  122893.000000  122893.000000   \n",
       "mean    61447.000000       2.865574       3.412847       0.956303   \n",
       "std     35476.297653       1.659672       1.846645       0.815157   \n",
       "min         1.000000       0.000000       1.000000       0.000000   \n",
       "25%     30724.000000       2.000000       2.000000       0.000000   \n",
       "50%     61447.000000       3.000000       3.000000       1.000000   \n",
       "75%     92170.000000       4.000000       5.000000       2.000000   \n",
       "max    122893.000000      14.000000      14.000000       2.000000   \n",
       "\n",
       "               balls        strikes     exit_speed          angle  \\\n",
       "count  122893.000000  122893.000000  122789.000000  122789.000000   \n",
       "mean        1.112073       1.099876      87.741952      12.074525   \n",
       "std         1.012917       0.808908      14.510062      26.958108   \n",
       "min         0.000000       0.000000       7.640000     -87.210000   \n",
       "25%         0.000000       0.000000      78.470000      -6.550000   \n",
       "50%         1.000000       1.000000      90.130000      12.360000   \n",
       "75%         2.000000       2.000000      98.870000      29.930000   \n",
       "max         4.000000       3.000000     128.860000     121.420000   \n",
       "\n",
       "           direction       distance        bearing  \n",
       "count  122789.000000  122789.000000  122789.000000  \n",
       "mean       -1.088212     167.034024      -0.593663  \n",
       "std        23.035038     137.222650      25.037156  \n",
       "min      -171.270000       0.240000    -179.920000  \n",
       "25%       -18.380000      21.860000     -20.560000  \n",
       "50%        -1.490000     155.160000      -1.040000  \n",
       "75%        15.840000     291.820000      19.070000  \n",
       "max       177.050000     538.450000     179.660000  "
      ]
     },
     "execution_count": 7,
     "metadata": {},
     "output_type": "execute_result"
    }
   ],
   "source": [
    "df.describe()"
   ]
  },
  {
   "cell_type": "markdown",
   "metadata": {},
   "source": [
    "#### Checking for missing values"
   ]
  },
  {
   "cell_type": "code",
   "execution_count": 8,
   "metadata": {},
   "outputs": [
    {
     "data": {
      "image/png": "[encoded data removed]",
      "text/plain": [
       "<Figure size 864x360 with 1 Axes>"
      ]
     },
     "metadata": {},
     "output_type": "display_data"
    }
   ],
   "source": [
    "NBplot.plot_missing_value_heatmap(df)\n",
    "\n",
    "# only the features \"exit_speed\", \"angle\", \"direction\", \"distance\", \"bearing\" have Na values"
   ]
  },
  {
   "cell_type": "code",
   "execution_count": 9,
   "metadata": {},
   "outputs": [
    {
     "data": {
      "text/html": [
       "<div>\n",
       "<style scoped>\n",
       "    .dataframe tbody tr th:only-of-type {\n",
       "        vertical-align: middle;\n",
       "    }\n",
       "\n",
       "    .dataframe tbody tr th {\n",
       "        vertical-align: top;\n",
       "    }\n",
       "\n",
       "    .dataframe thead th {\n",
       "        text-align: right;\n",
       "    }\n",
       "</style>\n",
       "<table border=\"1\" class=\"dataframe\">\n",
       "  <thead>\n",
       "    <tr style=\"text-align: right;\">\n",
       "      <th></th>\n",
       "      <th>#Missing_values</th>\n",
       "      <th>%Missing_values</th>\n",
       "    </tr>\n",
       "  </thead>\n",
       "  <tbody>\n",
       "    <tr>\n",
       "      <th>exit_speed</th>\n",
       "      <td>104</td>\n",
       "      <td>0.1</td>\n",
       "    </tr>\n",
       "    <tr>\n",
       "      <th>angle</th>\n",
       "      <td>104</td>\n",
       "      <td>0.1</td>\n",
       "    </tr>\n",
       "    <tr>\n",
       "      <th>direction</th>\n",
       "      <td>104</td>\n",
       "      <td>0.1</td>\n",
       "    </tr>\n",
       "    <tr>\n",
       "      <th>distance</th>\n",
       "      <td>104</td>\n",
       "      <td>0.1</td>\n",
       "    </tr>\n",
       "    <tr>\n",
       "      <th>bearing</th>\n",
       "      <td>104</td>\n",
       "      <td>0.1</td>\n",
       "    </tr>\n",
       "  </tbody>\n",
       "</table>\n",
       "</div>"
      ],
      "text/plain": [
       "            #Missing_values  %Missing_values\n",
       "exit_speed              104              0.1\n",
       "angle                   104              0.1\n",
       "direction               104              0.1\n",
       "distance                104              0.1\n",
       "bearing                 104              0.1"
      ]
     },
     "execution_count": 9,
     "metadata": {},
     "output_type": "execute_result"
    }
   ],
   "source": [
    "NBgeneral.missing_values(df)"
   ]
  },
  {
   "cell_type": "code",
   "execution_count": 10,
   "metadata": {},
   "outputs": [
    {
     "data": {
      "text/plain": [
       "RowNum                 0\n",
       "pa_of_inning           0\n",
       "pitch_of_pa            0\n",
       "batter_side            0\n",
       "pitcher_throws         0\n",
       "outs                   0\n",
       "balls                  0\n",
       "strikes                0\n",
       "tagged_pitch_type      0\n",
       "hit_type               0\n",
       "play_result            0\n",
       "exit_speed           104\n",
       "angle                104\n",
       "direction            104\n",
       "distance             104\n",
       "bearing              104\n",
       "dtype: int64"
      ]
     },
     "execution_count": 10,
     "metadata": {},
     "output_type": "execute_result"
    }
   ],
   "source": [
    "# sum of NaN values for each feature\n",
    "df.isna().sum()"
   ]
  },
  {
   "cell_type": "markdown",
   "metadata": {},
   "source": [
    "#### Looking for outliers"
   ]
  },
  {
   "cell_type": "code",
   "execution_count": 11,
   "metadata": {},
   "outputs": [
    {
     "data": {
      "image/png": "[encoded data removed]",
      "text/plain": [
       "<Figure size 1080x288 with 1 Axes>"
      ]
     },
     "metadata": {},
     "output_type": "display_data"
    },
    {
     "data": {
      "image/png": "[encoded data removed]",
      "text/plain": [
       "<Figure size 1080x288 with 1 Axes>"
      ]
     },
     "metadata": {},
     "output_type": "display_data"
    },
    {
     "data": {
      "image/png": "[encoded data removed]",
      "text/plain": [
       "<Figure size 1080x288 with 1 Axes>"
      ]
     },
     "metadata": {},
     "output_type": "display_data"
    },
    {
     "data": {
      "image/png": "[encoded data removed]",
      "text/plain": [
       "<Figure size 1080x288 with 1 Axes>"
      ]
     },
     "metadata": {},
     "output_type": "display_data"
    },
    {
     "data": {
      "image/png": "[encoded data removed]",
      "text/plain": [
       "<Figure size 1080x288 with 1 Axes>"
      ]
     },
     "metadata": {},
     "output_type": "display_data"
    }
   ],
   "source": [
    "# plotting outliers\n",
    "for col in [\"exit_speed\", \"angle\", \"direction\", \"distance\", \"bearing\"]: # selecting the numeric columns that will be use in the contact grading and model\n",
    "    plt.figure(figsize=(15,4))\n",
    "    g = sns.boxplot(x=df[col])\n",
    "    g.set(title=\" distribution by box plot\")\n",
    "    plt.show()"
   ]
  },
  {
   "cell_type": "code",
   "execution_count": 12,
   "metadata": {},
   "outputs": [
    {
     "name": "stderr",
     "output_type": "stream",
     "text": [
      "/usr/local/Cellar/jupyterlab/2.2.8/libexec/lib/python3.8/site-packages/seaborn/distributions.py:2557: FutureWarning:\n",
      "\n",
      "`distplot` is a deprecated function and will be removed in a future version. Please adapt your code to use either `displot` (a figure-level function with similar flexibility) or `histplot` (an axes-level function for histograms).\n",
      "\n"
     ]
    },
    {
     "data": {
      "image/png": "[encoded data removed]",
      "text/plain": [
       "<Figure size 648x432 with 1 Axes>"
      ]
     },
     "metadata": {},
     "output_type": "display_data"
    }
   ],
   "source": [
    "NBplot.distribution_plot(df,[\"exit_speed\"])"
   ]
  },
  {
   "cell_type": "code",
   "execution_count": 13,
   "metadata": {},
   "outputs": [
    {
     "data": {
      "image/png": "[encoded data removed]",
      "text/plain": [
       "<Figure size 648x432 with 1 Axes>"
      ]
     },
     "metadata": {},
     "output_type": "display_data"
    }
   ],
   "source": [
    "NBplot.distribution_plot(df,[\"angle\"])"
   ]
  },
  {
   "cell_type": "code",
   "execution_count": 14,
   "metadata": {},
   "outputs": [
    {
     "data": {
      "text/plain": [
       "GroundBall    52409\n",
       "LineDrive     30869\n",
       "FlyBall       29142\n",
       "Popup          8919\n",
       "Bunt           1521\n",
       "Undefined        33\n",
       "Name: hit_type, dtype: int64"
      ]
     },
     "execution_count": 14,
     "metadata": {},
     "output_type": "execute_result"
    }
   ],
   "source": [
    "# looking for number of undefined labels \n",
    "df.hit_type.value_counts()"
   ]
  },
  {
   "cell_type": "code",
   "execution_count": 15,
   "metadata": {},
   "outputs": [
    {
     "data": {
      "text/plain": [
       "Out               74381\n",
       "Single            25393\n",
       "Double             8296\n",
       "HomeRun            6610\n",
       "FieldersChoice     4184\n",
       "Sacrifice          1871\n",
       "Error              1314\n",
       "Triple              768\n",
       "Undefined            76\n",
       "Name: play_result, dtype: int64"
      ]
     },
     "execution_count": 15,
     "metadata": {},
     "output_type": "execute_result"
    }
   ],
   "source": [
    "df.play_result.value_counts()"
   ]
  },
  {
   "cell_type": "code",
   "execution_count": 16,
   "metadata": {},
   "outputs": [
    {
     "data": {
      "text/plain": [
       "array(['FlyBall', 'GroundBall', 'LineDrive', 'Popup', 'Bunt', 'Undefined'],\n",
       "      dtype=object)"
      ]
     },
     "execution_count": 16,
     "metadata": {},
     "output_type": "execute_result"
    }
   ],
   "source": [
    "df[\"hit_type\"].unique()"
   ]
  },
  {
   "cell_type": "code",
   "execution_count": 17,
   "metadata": {},
   "outputs": [
    {
     "data": {
      "text/plain": [
       "array(['Out', 'HomeRun', 'Single', 'FieldersChoice', 'Double', 'Triple',\n",
       "       'Sacrifice', 'Error', 'Undefined'], dtype=object)"
      ]
     },
     "execution_count": 17,
     "metadata": {},
     "output_type": "execute_result"
    }
   ],
   "source": [
    "df[\"play_result\"].unique()"
   ]
  },
  {
   "cell_type": "markdown",
   "metadata": {},
   "source": [
    "### Insights\n",
    "\n",
    "#### Statistics\n",
    "\n",
    "- exit_speed: the mean is 87.74 and median is 90.13,  however the max is 128.86 which seems odd as the fastest ball ever hit recorded by statcast is 124 MPH. \n",
    "\n",
    "- angle: mean and median are the same, 12, so we have a normal distribution. The max value is 121.4, which is probably an incorrect measurement as angle values can only be between 90º and -90º. \n",
    "\n",
    "#### Info\n",
    "\n",
    "There are 104 missing values on the features \"exit_speed\", \"angle\", \"direction\", \"distance\", \"bearing\".\n",
    "\n",
    "#### Unique Values\n",
    "\n",
    "There are \"Undefined\" values on multiple columns. I am going to focuse on \"hit_type\" and \"play_result\" features as they have unconsistent measurements when the action is tagged as \"Undefined\"."
   ]
  },
  {
   "cell_type": "markdown",
   "metadata": {},
   "source": [
    "---"
   ]
  },
  {
   "cell_type": "markdown",
   "metadata": {},
   "source": [
    "## Data Cleaning"
   ]
  },
  {
   "cell_type": "markdown",
   "metadata": {},
   "source": [
    "I am going to remove all rows with Na values and \"Undefined\" labels from columns \"hit_type\" and \"play_result\".\n",
    "\n",
    "Also, I´ll remove values on the \"exit_speed\" above 124 MPH as this is the fastests ball ever hit recorded by statcast and in this data set there are 4 records above this value. \n",
    "\n",
    "I´ll get rid of the values that are above 90º as the launch angles fall between 90º and -90º."
   ]
  },
  {
   "cell_type": "code",
   "execution_count": 18,
   "metadata": {},
   "outputs": [],
   "source": [
    "clean_df = df.copy()"
   ]
  },
  {
   "cell_type": "code",
   "execution_count": 19,
   "metadata": {},
   "outputs": [],
   "source": [
    "# keeping the rows that don´t contain undefined records for columns hit_type and player_result\n",
    "clean_df = clean_df.loc[~((clean_df[\"hit_type\"]==\"Undefined\") | (clean_df[\"play_result\"]==\"Undefined\"))]"
   ]
  },
  {
   "cell_type": "code",
   "execution_count": 20,
   "metadata": {},
   "outputs": [],
   "source": [
    "# since there is only a few amount of Na values I'll remove all of them instead of filling them with the median. \n",
    "clean_df.dropna(inplace=True)"
   ]
  },
  {
   "cell_type": "code",
   "execution_count": 21,
   "metadata": {},
   "outputs": [],
   "source": [
    "# exit_speed outliers\n",
    "clean_df = clean_df.query(\"exit_speed < 124\")"
   ]
  },
  {
   "cell_type": "code",
   "execution_count": 22,
   "metadata": {},
   "outputs": [],
   "source": [
    "# values above 90ª\n",
    "clean_df = clean_df.loc[~((clean_df[\"angle\"] > 90))]"
   ]
  },
  {
   "cell_type": "markdown",
   "metadata": {},
   "source": [
    "---"
   ]
  },
  {
   "cell_type": "markdown",
   "metadata": {},
   "source": [
    "## Methodology and Design Decision"
   ]
  },
  {
   "cell_type": "markdown",
   "metadata": {},
   "source": [
    "My initial idea was to binary classify each batted ball between barrel(1) or not-barrel(0) following the statcast logic http://m.mlb.com/glossary/statcast/barrel.\n",
    "\n",
    "However I wanted to provide a more thorough grading so I extended the classification of each batted ball to 6 labels (Weak, Topped, Under, Flare/Burner, Solid Contact and Barrel) following the statcast \"launch_speed_angle\".\n",
    "\n",
    "To create the classification function I use some ideas from https://www.pitcherlist.com/beyond-the-barrel-an-introduction-to-ideal-contact-rate/ which helped with the coding logic. "
   ]
  },
  {
   "cell_type": "code",
   "execution_count": 23,
   "metadata": {},
   "outputs": [],
   "source": [
    "\"\"\"ALGORITHM TO GRADE THE QUALITY OF CONTACT\"\"\"\n",
    "\n",
    "def classification(df): \n",
    "    \n",
    "    \"\"\"\n",
    "    This function takes a data frame \n",
    "    as parameter and checks for each condition \n",
    "    and classifies each instance in one of the 7 categories: \n",
    "    6 = Barrel, 5 = Solid Contact, 1 = Weak Contact\n",
    "    4 = Flare/Burner, 3 = Poorly-Under, 2 = Poorly-Topped \n",
    "    and 0 = Unclassified\n",
    "    \"\"\"\n",
    "        \n",
    "    if (df[\"exit_speed\"] * 1.5 - df[\"angle\"]) >= 117.00 and (df[\"exit_speed\"] + df[\"angle\"]) >= 124 and (df[\"exit_speed\"]) >= 98 and 8 <= df[\"angle\"] <= 50:\n",
    "        return 6 #\"Barrel\"\n",
    "    elif (df[\"exit_speed\"] * 1.5 - df[\"angle\"]) >= 111.00 and (df[\"exit_speed\"] + df[\"angle\"]) >= 119 and (df[\"exit_speed\"]) >= 95 and 0 <= df[\"angle\"] <= 52:\n",
    "        return 5 #\"Solid\"\n",
    "    elif (df[\"exit_speed\"] * 1.5 - df[\"angle\"]) >= 111.00 and (df[\"exit_speed\"] + df[\"angle\"]) >= 119 and (df[\"exit_speed\"]) >= 59 and 0 <= df[\"angle\"] <= 52:\n",
    "        return 1 #\"Weak\"\n",
    "    elif (df[\"exit_speed\"] * 2 - df[\"angle\"]) >= 87 and df[\"angle\"] <= 41 and (df[\"exit_speed\"] * 2 + df[\"angle\"]) <= 175 and (df[\"exit_speed\"] + df[\"angle\"] * 1.3) >= 89 and 59 <= df[\"exit_speed\"] <= 72:\n",
    "        return 4 #\"Burner\"\n",
    "    elif (df[\"exit_speed\"] + df[\"angle\"] * 1.3) <= 112 and (df[\"exit_speed\"] + df[\"angle\"] * 1.55) >= 92 and 72 <= df[\"exit_speed\"] <=86:\n",
    "        return 4 #\"Burner\"\n",
    "    elif df[\"angle\"] <= 20 and (df[\"exit_speed\"] + df[\"angle\"] * 2.4) >= 98 and 86 <= df[\"exit_speed\"] <= 95:\n",
    "        return 4 #\"Burner\"\n",
    "    elif (df[\"exit_speed\"] - df[\"angle\"]) >= 76 and (df[\"exit_speed\"] + df[\"angle\"] * 2.4) >= 98 and df[\"exit_speed\"] >= 95 and df[\"angle\"] <= 30:\n",
    "        return 4 #\"Burner\"\n",
    "    elif (df[\"exit_speed\"] + df[\"angle\"] * 2) >= 116:\n",
    "        return 3 #\"Poorly-Under\"\n",
    "    elif (df[\"exit_speed\"] + df[\"angle\"] * 2) <= 116:\n",
    "        return 2 #\"Poorly-Topped\"\n",
    "    else:\n",
    "        return 0 #\"Unclassified\""
   ]
  },
  {
   "cell_type": "markdown",
   "metadata": {},
   "source": [
    "Selecting the features that will be use in the model. "
   ]
  },
  {
   "cell_type": "code",
   "execution_count": 24,
   "metadata": {},
   "outputs": [],
   "source": [
    "new_df = clean_df.loc[:,'exit_speed':]"
   ]
  },
  {
   "cell_type": "markdown",
   "metadata": {},
   "source": [
    "Adding a new column with the contact_quality classification to the new df."
   ]
  },
  {
   "cell_type": "code",
   "execution_count": 25,
   "metadata": {},
   "outputs": [
    {
     "data": {
      "text/html": [
       "<div>\n",
       "<style scoped>\n",
       "    .dataframe tbody tr th:only-of-type {\n",
       "        vertical-align: middle;\n",
       "    }\n",
       "\n",
       "    .dataframe tbody tr th {\n",
       "        vertical-align: top;\n",
       "    }\n",
       "\n",
       "    .dataframe thead th {\n",
       "        text-align: right;\n",
       "    }\n",
       "</style>\n",
       "<table border=\"1\" class=\"dataframe\">\n",
       "  <thead>\n",
       "    <tr style=\"text-align: right;\">\n",
       "      <th></th>\n",
       "      <th>exit_speed</th>\n",
       "      <th>angle</th>\n",
       "      <th>direction</th>\n",
       "      <th>distance</th>\n",
       "      <th>bearing</th>\n",
       "      <th>contact_quality</th>\n",
       "    </tr>\n",
       "  </thead>\n",
       "  <tbody>\n",
       "    <tr>\n",
       "      <th>0</th>\n",
       "      <td>97.59</td>\n",
       "      <td>37.44</td>\n",
       "      <td>22.93</td>\n",
       "      <td>357.86</td>\n",
       "      <td>32.90</td>\n",
       "      <td>3</td>\n",
       "    </tr>\n",
       "    <tr>\n",
       "      <th>1</th>\n",
       "      <td>106.43</td>\n",
       "      <td>22.34</td>\n",
       "      <td>-0.55</td>\n",
       "      <td>406.45</td>\n",
       "      <td>-11.34</td>\n",
       "      <td>6</td>\n",
       "    </tr>\n",
       "    <tr>\n",
       "      <th>2</th>\n",
       "      <td>79.62</td>\n",
       "      <td>-17.73</td>\n",
       "      <td>14.80</td>\n",
       "      <td>17.42</td>\n",
       "      <td>14.80</td>\n",
       "      <td>2</td>\n",
       "    </tr>\n",
       "    <tr>\n",
       "      <th>3</th>\n",
       "      <td>101.62</td>\n",
       "      <td>33.26</td>\n",
       "      <td>-10.41</td>\n",
       "      <td>365.32</td>\n",
       "      <td>-9.54</td>\n",
       "      <td>6</td>\n",
       "    </tr>\n",
       "    <tr>\n",
       "      <th>4</th>\n",
       "      <td>96.49</td>\n",
       "      <td>18.54</td>\n",
       "      <td>23.04</td>\n",
       "      <td>289.52</td>\n",
       "      <td>30.02</td>\n",
       "      <td>4</td>\n",
       "    </tr>\n",
       "    <tr>\n",
       "      <th>...</th>\n",
       "      <td>...</td>\n",
       "      <td>...</td>\n",
       "      <td>...</td>\n",
       "      <td>...</td>\n",
       "      <td>...</td>\n",
       "      <td>...</td>\n",
       "    </tr>\n",
       "    <tr>\n",
       "      <th>122888</th>\n",
       "      <td>105.68</td>\n",
       "      <td>6.09</td>\n",
       "      <td>-7.62</td>\n",
       "      <td>202.98</td>\n",
       "      <td>-7.22</td>\n",
       "      <td>4</td>\n",
       "    </tr>\n",
       "    <tr>\n",
       "      <th>122889</th>\n",
       "      <td>83.69</td>\n",
       "      <td>14.36</td>\n",
       "      <td>3.59</td>\n",
       "      <td>185.64</td>\n",
       "      <td>7.67</td>\n",
       "      <td>4</td>\n",
       "    </tr>\n",
       "    <tr>\n",
       "      <th>122890</th>\n",
       "      <td>103.55</td>\n",
       "      <td>-16.64</td>\n",
       "      <td>-7.43</td>\n",
       "      <td>8.92</td>\n",
       "      <td>-8.94</td>\n",
       "      <td>2</td>\n",
       "    </tr>\n",
       "    <tr>\n",
       "      <th>122891</th>\n",
       "      <td>85.77</td>\n",
       "      <td>40.56</td>\n",
       "      <td>17.25</td>\n",
       "      <td>282.87</td>\n",
       "      <td>29.44</td>\n",
       "      <td>3</td>\n",
       "    </tr>\n",
       "    <tr>\n",
       "      <th>122892</th>\n",
       "      <td>87.30</td>\n",
       "      <td>53.79</td>\n",
       "      <td>-0.73</td>\n",
       "      <td>234.83</td>\n",
       "      <td>-12.55</td>\n",
       "      <td>3</td>\n",
       "    </tr>\n",
       "  </tbody>\n",
       "</table>\n",
       "<p>122698 rows × 6 columns</p>\n",
       "</div>"
      ],
      "text/plain": [
       "        exit_speed  angle  direction  distance  bearing  contact_quality\n",
       "0            97.59  37.44      22.93    357.86    32.90                3\n",
       "1           106.43  22.34      -0.55    406.45   -11.34                6\n",
       "2            79.62 -17.73      14.80     17.42    14.80                2\n",
       "3           101.62  33.26     -10.41    365.32    -9.54                6\n",
       "4            96.49  18.54      23.04    289.52    30.02                4\n",
       "...            ...    ...        ...       ...      ...              ...\n",
       "122888      105.68   6.09      -7.62    202.98    -7.22                4\n",
       "122889       83.69  14.36       3.59    185.64     7.67                4\n",
       "122890      103.55 -16.64      -7.43      8.92    -8.94                2\n",
       "122891       85.77  40.56      17.25    282.87    29.44                3\n",
       "122892       87.30  53.79      -0.73    234.83   -12.55                3\n",
       "\n",
       "[122698 rows x 6 columns]"
      ]
     },
     "execution_count": 25,
     "metadata": {},
     "output_type": "execute_result"
    }
   ],
   "source": [
    "new_df[\"contact_quality\"] = new_df.apply(classification, axis=1)\n",
    "new_df"
   ]
  },
  {
   "cell_type": "markdown",
   "metadata": {},
   "source": [
    "Looking for imbalances."
   ]
  },
  {
   "cell_type": "code",
   "execution_count": 26,
   "metadata": {},
   "outputs": [
    {
     "data": {
      "text/plain": [
       "2    44702\n",
       "3    31437\n",
       "4    30341\n",
       "6     8469\n",
       "5     7139\n",
       "1      610\n",
       "Name: contact_quality, dtype: int64"
      ]
     },
     "execution_count": 26,
     "metadata": {},
     "output_type": "execute_result"
    }
   ],
   "source": [
    "new_df.contact_quality.value_counts()"
   ]
  },
  {
   "cell_type": "code",
   "execution_count": 27,
   "metadata": {},
   "outputs": [
    {
     "data": {
      "text/plain": [
       "<AxesSubplot:xlabel='contact_quality', ylabel='count'>"
      ]
     },
     "execution_count": 27,
     "metadata": {},
     "output_type": "execute_result"
    },
    {
     "data": {
      "image/png": "[encoded data removed]",
      "text/plain": [
       "<Figure size 432x288 with 1 Axes>"
      ]
     },
     "metadata": {},
     "output_type": "display_data"
    }
   ],
   "source": [
    "sns.countplot(x=\"contact_quality\", data=new_df)"
   ]
  },
  {
   "cell_type": "code",
   "execution_count": 28,
   "metadata": {},
   "outputs": [],
   "source": [
    "# There´s a notable imbalance between contact_quality grades 2, 3, 4 and 1, 5, 6. <br>\n",
    "# I´ll try to balanced it using the parameter stratify when splitting the data for ML. "
   ]
  },
  {
   "cell_type": "markdown",
   "metadata": {},
   "source": [
    "---"
   ]
  },
  {
   "cell_type": "markdown",
   "metadata": {},
   "source": [
    "## Data Modeling"
   ]
  },
  {
   "cell_type": "markdown",
   "metadata": {},
   "source": [
    "I am going to split the dataset between train 80% and test 20% and I will train the model with the 80% of the data and I will use the test data to assess the model.\n"
   ]
  },
  {
   "cell_type": "markdown",
   "metadata": {},
   "source": [
    "### 1. Train-test split"
   ]
  },
  {
   "cell_type": "code",
   "execution_count": 29,
   "metadata": {},
   "outputs": [
    {
     "name": "stdout",
     "output_type": "stream",
     "text": [
      "(98158, 5) (24540, 5) (98158, 1) (24540, 1)\n"
     ]
    }
   ],
   "source": [
    "from sklearn.model_selection import train_test_split\n",
    "# define X and y (features and target)\n",
    "X = new_df.iloc[:,:5]\n",
    "y = new_df.iloc[:,5:6]\n",
    "# data splitting\n",
    "X_train, X_test, y_train, y_test = train_test_split(X, y, test_size=0.2, random_state=8, stratify=y) # since we have an imbalance dataset I am stratifying y to balance it \n",
    "# printing shapes\n",
    "print(X_train.shape, X_test.shape, y_train.shape, y_test.shape)"
   ]
  },
  {
   "cell_type": "code",
   "execution_count": 30,
   "metadata": {},
   "outputs": [
    {
     "name": "stdout",
     "output_type": "stream",
     "text": [
      "the length of featuers columns in X_train is 98158\n",
      "the length of featuers columns in X_test is 24540\n",
      "the length of featuers columns in data base is 122698\n",
      "the delta between all is data sets and data base is : 0\n",
      "\n",
      "Number of columns in X_train is 5\n",
      "Number of columns in X_test is 5\n",
      "Number of columns in data base is 6\n"
     ]
    }
   ],
   "source": [
    "# integrity check to the split\n",
    "print(f\"the length of featuers columns in X_train is {len(X_train)}\")\n",
    "print(f\"the length of featuers columns in X_test is {len(X_test)}\")\n",
    "print(f\"the length of featuers columns in data base is {len(new_df)}\")\n",
    "print(f\"the delta between all is data sets and data base is :\",len(new_df)-len(X_train)-len(X_test))\n",
    "print(\"\")\n",
    "print(f\"Number of columns in X_train is {len(X_train.columns)}\")\n",
    "print(f\"Number of columns in X_test is {len(X_test.columns)}\")\n",
    "print(f\"Number of columns in data base is {len(new_df.columns)}\")"
   ]
  },
  {
   "cell_type": "markdown",
   "metadata": {},
   "source": [
    "### 2. Pre-processing"
   ]
  },
  {
   "cell_type": "markdown",
   "metadata": {},
   "source": [
    "#### 2.1. Feature Scaling\n",
    "\n",
    "Since our features have different ranges, I´ll use a scaler to standardize them."
   ]
  },
  {
   "cell_type": "code",
   "execution_count": 31,
   "metadata": {},
   "outputs": [],
   "source": [
    "from sklearn.preprocessing import StandardScaler\n",
    "scaler = StandardScaler() # initiate transformer\n",
    "X_train = scaler.fit_transform(X_train) # scale data"
   ]
  },
  {
   "cell_type": "markdown",
   "metadata": {},
   "source": [
    "#### 2.2. Preprocessing the test set"
   ]
  },
  {
   "cell_type": "code",
   "execution_count": 32,
   "metadata": {},
   "outputs": [],
   "source": [
    "X_test = scaler.transform(X_test)"
   ]
  },
  {
   "cell_type": "markdown",
   "metadata": {},
   "source": [
    "---"
   ]
  },
  {
   "cell_type": "markdown",
   "metadata": {},
   "source": [
    "## Models"
   ]
  },
  {
   "cell_type": "markdown",
   "metadata": {},
   "source": [
    "For this analysis I´ll use three different models to see which one performs best with the dataset we have:\n",
    "\n",
    "- Logistic Regression\n",
    "\n",
    "- Support Vector Machine\n",
    "\n",
    "- Random Forest"
   ]
  },
  {
   "cell_type": "markdown",
   "metadata": {},
   "source": [
    "#### Logistic Regression"
   ]
  },
  {
   "cell_type": "code",
   "execution_count": 33,
   "metadata": {},
   "outputs": [],
   "source": [
    "from sklearn.linear_model import LogisticRegression\n",
    "from sklearn.model_selection import cross_val_score\n",
    "from sklearn.model_selection import RepeatedStratifiedKFold"
   ]
  },
  {
   "cell_type": "markdown",
   "metadata": {},
   "source": [
    "Evaluating multinominal logistic regression for multi-class classification"
   ]
  },
  {
   "cell_type": "code",
   "execution_count": 34,
   "metadata": {},
   "outputs": [
    {
     "name": "stdout",
     "output_type": "stream",
     "text": [
      "Mean Accuracy: 0.925 (0.002)\n"
     ]
    }
   ],
   "source": [
    "# flattening array\n",
    "y_test = np.ravel(y_test)\n",
    "y_train = np.ravel(y_train)\n",
    "\n",
    "# multinomial logistic regression model\n",
    "model_lr = LogisticRegression(multi_class='multinomial', solver='lbfgs')\n",
    "\n",
    "# model evaluation procedure\n",
    "cv = RepeatedStratifiedKFold(n_splits=10, n_repeats=3, random_state=1)\n",
    "\n",
    "# evaluating the model\n",
    "n_scores = cross_val_score(model_lr, X_train, y_train, scoring='accuracy', cv=cv, n_jobs=-1)\n",
    "\n",
    "# reporting the model performance\n",
    "print('Mean Accuracy: %.3f (%.3f)' % (np.mean(n_scores), np.std(n_scores)))"
   ]
  },
  {
   "cell_type": "markdown",
   "metadata": {},
   "source": [
    "We can see that the multinomial logistic regression model achieved a mean classification accuracy of about 92.5 percent on our train dataset.\n",
    "\n",
    "Let´s now fit our model with the train data and check the score for the test data."
   ]
  },
  {
   "cell_type": "code",
   "execution_count": 42,
   "metadata": {},
   "outputs": [
    {
     "name": "stderr",
     "output_type": "stream",
     "text": [
      "/usr/local/Cellar/jupyterlab/2.2.8/libexec/lib/python3.8/site-packages/sklearn/linear_model/_logistic.py:763: ConvergenceWarning:\n",
      "\n",
      "lbfgs failed to converge (status=1):\n",
      "STOP: TOTAL NO. of ITERATIONS REACHED LIMIT.\n",
      "\n",
      "Increase the number of iterations (max_iter) or scale the data as shown in:\n",
      "    https://scikit-learn.org/stable/modules/preprocessing.html\n",
      "Please also refer to the documentation for alternative solver options:\n",
      "    https://scikit-learn.org/stable/modules/linear_model.html#logistic-regression\n",
      "\n"
     ]
    },
    {
     "data": {
      "text/plain": [
       "0.9265281173594132"
      ]
     },
     "execution_count": 42,
     "metadata": {},
     "output_type": "execute_result"
    }
   ],
   "source": [
    "# fitting model\n",
    "model_lr.fit(X_train, y_train)\n",
    "\n",
    "# predictions\n",
    "lr_y_pred = model_lr.predict(X_test)\n",
    "\n",
    "# model score\n",
    "model_lr.score(X_test, y_test)"
   ]
  },
  {
   "cell_type": "markdown",
   "metadata": {},
   "source": [
    "Again we get a similar result for the test data with a 92.6 percent. "
   ]
  },
  {
   "cell_type": "markdown",
   "metadata": {},
   "source": [
    "#### Validation & Accuracy"
   ]
  },
  {
   "cell_type": "code",
   "execution_count": 43,
   "metadata": {},
   "outputs": [],
   "source": [
    "from sklearn.metrics import classification_report\n",
    "from sklearn import metrics \n",
    "from sklearn.metrics import confusion_matrix, classification_report\n",
    "import statsmodels.api as sm\n",
    "from sklearn.metrics import plot_confusion_matrix"
   ]
  },
  {
   "cell_type": "code",
   "execution_count": 44,
   "metadata": {},
   "outputs": [
    {
     "name": "stdout",
     "output_type": "stream",
     "text": [
      "Intercept: \n",
      " [ -1.19374712   3.47635267   6.8036398   14.72727952  -3.56581095\n",
      " -20.24771392]\n",
      "Coefficients: \n",
      " [[-1.43993836e+00  6.61221627e+00  3.26228106e-01  4.05648330e+00\n",
      "  -2.56950687e-01]\n",
      " [-1.29536406e+01 -2.63133102e+01 -1.28951520e+00 -1.27589593e+01\n",
      "   1.29905484e+00]\n",
      " [-1.39034815e+00  1.06618164e+01  4.62373947e-01 -1.90147568e+00\n",
      "  -5.11205521e-01]\n",
      " [-4.21238181e+00 -6.98752784e+00  1.72057364e-01 -2.41135829e+00\n",
      "  -2.47011424e-01]\n",
      " [ 6.91426327e+00  7.52915501e+00  2.39125767e-01  3.08764685e+00\n",
      "  -2.81826701e-01]\n",
      " [ 1.30820457e+01  8.49765033e+00  8.97300155e-02  9.92766311e+00\n",
      "  -2.06050292e-03]]\n"
     ]
    }
   ],
   "source": [
    "# Intercept and Coefficients\n",
    "\n",
    "# print model parameters\n",
    "print('Intercept: \\n', model_lr.intercept_)\n",
    "print('Coefficients: \\n', model_lr.coef_)"
   ]
  },
  {
   "cell_type": "code",
   "execution_count": 45,
   "metadata": {},
   "outputs": [
    {
     "data": {
      "text/plain": [
       "array([[2.36942364e-01, 7.44130386e+02, 1.38573143e+00, 5.77707910e+01,\n",
       "        7.73406352e-01],\n",
       "       [2.36758377e-06, 3.73486212e-12, 2.75404267e-01, 2.87643383e-06,\n",
       "        3.66583022e+00],\n",
       "       [2.48988605e-01, 4.26941184e+04, 1.58783896e+00, 1.49348066e-01,\n",
       "        5.99772105e-01],\n",
       "       [1.48110492e-02, 9.23326323e-04, 1.18774596e+00, 8.96933821e-02,\n",
       "        7.81131770e-01],\n",
       "       [1.00652921e+03, 1.86153186e+03, 1.27013827e+00, 2.19254234e+01,\n",
       "        7.54404411e-01],\n",
       "       [4.80242122e+05, 4.90323429e+03, 1.09387891e+00, 2.04894030e+04,\n",
       "        9.97941618e-01]])"
      ]
     },
     "execution_count": 45,
     "metadata": {},
     "output_type": "execute_result"
    }
   ],
   "source": [
    "# calculate odds ratio estimates\n",
    "np.exp(model_lr.coef_)"
   ]
  },
  {
   "cell_type": "code",
   "execution_count": 46,
   "metadata": {},
   "outputs": [
    {
     "name": "stdout",
     "output_type": "stream",
     "text": [
      "Mean Absolute Error: 0.0973920130399348\n",
      "Mean Squared Error: 0.14596577017114915\n",
      "Root Mean Squared Error: 0.38205466908696345\n"
     ]
    }
   ],
   "source": [
    "# evaluating the algorithm\n",
    "print('Mean Absolute Error:', metrics.mean_absolute_error(y_test, lr_y_pred))\n",
    "print('Mean Squared Error:', metrics.mean_squared_error(y_test, lr_y_pred))\n",
    "print('Root Mean Squared Error:', np.sqrt(metrics.mean_squared_error(y_test, lr_y_pred)))"
   ]
  },
  {
   "cell_type": "code",
   "execution_count": 47,
   "metadata": {},
   "outputs": [],
   "source": [
    "from sklearn.metrics import accuracy_score \n",
    "from sklearn.metrics import cohen_kappa_score"
   ]
  },
  {
   "cell_type": "code",
   "execution_count": 48,
   "metadata": {},
   "outputs": [
    {
     "name": "stdout",
     "output_type": "stream",
     "text": [
      "Accuracy Score: 0.9265281173594132 \n",
      "\n",
      "              precision    recall  f1-score   support\n",
      "\n",
      "           1       0.00      0.00      0.00       122\n",
      "           2       0.99      0.99      0.99      8941\n",
      "           3       0.93      0.94      0.93      6287\n",
      "           4       0.93      0.93      0.93      6068\n",
      "           5       0.64      0.66      0.65      1428\n",
      "           6       0.84      0.85      0.84      1694\n",
      "\n",
      "    accuracy                           0.93     24540\n",
      "   macro avg       0.72      0.73      0.72     24540\n",
      "weighted avg       0.92      0.93      0.92     24540\n",
      "\n"
     ]
    },
    {
     "name": "stderr",
     "output_type": "stream",
     "text": [
      "/usr/local/Cellar/jupyterlab/2.2.8/libexec/lib/python3.8/site-packages/sklearn/metrics/_classification.py:1245: UndefinedMetricWarning:\n",
      "\n",
      "Precision and F-score are ill-defined and being set to 0.0 in labels with no predicted samples. Use `zero_division` parameter to control this behavior.\n",
      "\n",
      "/usr/local/Cellar/jupyterlab/2.2.8/libexec/lib/python3.8/site-packages/sklearn/metrics/_classification.py:1245: UndefinedMetricWarning:\n",
      "\n",
      "Precision and F-score are ill-defined and being set to 0.0 in labels with no predicted samples. Use `zero_division` parameter to control this behavior.\n",
      "\n",
      "/usr/local/Cellar/jupyterlab/2.2.8/libexec/lib/python3.8/site-packages/sklearn/metrics/_classification.py:1245: UndefinedMetricWarning:\n",
      "\n",
      "Precision and F-score are ill-defined and being set to 0.0 in labels with no predicted samples. Use `zero_division` parameter to control this behavior.\n",
      "\n"
     ]
    }
   ],
   "source": [
    "# accuracy statistics\n",
    "print('Accuracy Score:', metrics.accuracy_score(y_test, lr_y_pred), \"\\n\")  \n",
    "\n",
    "# create classification report\n",
    "lr_class_report = classification_report(y_test, lr_y_pred)\n",
    "print(lr_class_report)"
   ]
  },
  {
   "cell_type": "code",
   "execution_count": 49,
   "metadata": {},
   "outputs": [
    {
     "name": "stdout",
     "output_type": "stream",
     "text": [
      "Cohen’s Kappa Score: 0.8995387196893412\n"
     ]
    }
   ],
   "source": [
    "# cohen´s kappa statistic\n",
    "lr_cohen_kappa = cohen_kappa_score(y_test, lr_y_pred)\n",
    "print(\"Cohen’s Kappa Score:\", lr_cohen_kappa)"
   ]
  },
  {
   "cell_type": "code",
   "execution_count": 50,
   "metadata": {},
   "outputs": [
    {
     "data": {
      "text/plain": [
       "<sklearn.metrics._plot.confusion_matrix.ConfusionMatrixDisplay at 0x110948d30>"
      ]
     },
     "execution_count": 50,
     "metadata": {},
     "output_type": "execute_result"
    },
    {
     "data": {
      "image/png": "[encoded data removed]",
      "text/plain": [
       "<Figure size 432x288 with 2 Axes>"
      ]
     },
     "metadata": {},
     "output_type": "display_data"
    }
   ],
   "source": [
    "# create a confusion matrix\n",
    "plot_confusion_matrix(model_lr, X_test, y_test) "
   ]
  },
  {
   "cell_type": "markdown",
   "metadata": {},
   "source": [
    "---"
   ]
  },
  {
   "cell_type": "markdown",
   "metadata": {},
   "source": [
    "#### Support Vector Machine Classifier"
   ]
  },
  {
   "cell_type": "code",
   "execution_count": 51,
   "metadata": {},
   "outputs": [],
   "source": [
    "from sklearn import svm\n",
    "from sklearn.svm import SVC"
   ]
  },
  {
   "cell_type": "code",
   "execution_count": 52,
   "metadata": {},
   "outputs": [],
   "source": [
    "# support vector classifier model\n",
    "model_svm = svm.SVC(decision_function_shape='ovo')"
   ]
  },
  {
   "cell_type": "code",
   "execution_count": 53,
   "metadata": {},
   "outputs": [],
   "source": [
    "# fitting model\n",
    "model_svm.fit(X_train, y_train)\n",
    "\n",
    "# predictions\n",
    "svc_y_pred = model_svm.predict(X_test)"
   ]
  },
  {
   "cell_type": "markdown",
   "metadata": {},
   "source": [
    "#### Validation & Accuracy"
   ]
  },
  {
   "cell_type": "code",
   "execution_count": 54,
   "metadata": {},
   "outputs": [
    {
     "name": "stdout",
     "output_type": "stream",
     "text": [
      "Mean Absolute Error: 0.05338223308883456\n",
      "Mean Squared Error: 0.08679706601466992\n",
      "Root Mean Squared Error: 0.29461341791349205\n"
     ]
    }
   ],
   "source": [
    "# evaluating the algorithm\n",
    "print('Mean Absolute Error:', metrics.mean_absolute_error(y_test, svc_y_pred))\n",
    "print('Mean Squared Error:', metrics.mean_squared_error(y_test, svc_y_pred))\n",
    "print('Root Mean Squared Error:', np.sqrt(metrics.mean_squared_error(y_test, svc_y_pred)))"
   ]
  },
  {
   "cell_type": "code",
   "execution_count": 55,
   "metadata": {},
   "outputs": [
    {
     "name": "stdout",
     "output_type": "stream",
     "text": [
      "SVC Accuracy: 0.9624694376528118 \n",
      "\n",
      "              precision    recall  f1-score   support\n",
      "\n",
      "           1       1.00      0.02      0.03       122\n",
      "           2       0.99      0.99      0.99      8941\n",
      "           3       0.96      0.98      0.97      6287\n",
      "           4       0.97      0.97      0.97      6068\n",
      "           5       0.81      0.83      0.82      1428\n",
      "           6       0.91      0.90      0.90      1694\n",
      "\n",
      "    accuracy                           0.96     24540\n",
      "   macro avg       0.94      0.78      0.78     24540\n",
      "weighted avg       0.96      0.96      0.96     24540\n",
      "\n"
     ]
    }
   ],
   "source": [
    "# accuracy statistics\n",
    "print(\"SVC Accuracy:\",metrics.accuracy_score(y_test, svc_y_pred), \"\\n\")\n",
    "\n",
    "# create classification report\n",
    "svc_class_report = classification_report(y_test, svc_y_pred)\n",
    "print(svc_class_report)"
   ]
  },
  {
   "cell_type": "code",
   "execution_count": 56,
   "metadata": {},
   "outputs": [
    {
     "name": "stdout",
     "output_type": "stream",
     "text": [
      "Cohen’s Kappa Score: 0.948671410527936\n"
     ]
    }
   ],
   "source": [
    "# cohen´s kappa statistic\n",
    "svc_cohen_kappa = cohen_kappa_score(y_test, svc_y_pred)\n",
    "print(\"Cohen’s Kappa Score:\", svc_cohen_kappa)"
   ]
  },
  {
   "cell_type": "code",
   "execution_count": 57,
   "metadata": {},
   "outputs": [
    {
     "data": {
      "text/plain": [
       "<sklearn.metrics._plot.confusion_matrix.ConfusionMatrixDisplay at 0x127540fd0>"
      ]
     },
     "execution_count": 57,
     "metadata": {},
     "output_type": "execute_result"
    },
    {
     "data": {
      "image/png": "[encoded data removed]",
      "text/plain": [
       "<Figure size 432x288 with 2 Axes>"
      ]
     },
     "metadata": {},
     "output_type": "display_data"
    }
   ],
   "source": [
    "# create a confusion matrix\n",
    "plot_confusion_matrix(model_svm, X_test, y_test) "
   ]
  },
  {
   "cell_type": "markdown",
   "metadata": {},
   "source": [
    "---"
   ]
  },
  {
   "cell_type": "markdown",
   "metadata": {},
   "source": [
    "#### Random Forest Classifier"
   ]
  },
  {
   "cell_type": "code",
   "execution_count": 58,
   "metadata": {},
   "outputs": [],
   "source": [
    "from sklearn.ensemble import RandomForestClassifier"
   ]
  },
  {
   "cell_type": "code",
   "execution_count": 59,
   "metadata": {},
   "outputs": [],
   "source": [
    "# create a Gaussian Classifier\n",
    "model_rf = RandomForestClassifier(n_estimators=100)"
   ]
  },
  {
   "cell_type": "code",
   "execution_count": 60,
   "metadata": {},
   "outputs": [],
   "source": [
    "# fitting model\n",
    "model_rf.fit(X_train,y_train)\n",
    "\n",
    "# predictions\n",
    "rf_y_pred = model_rf.predict(X_test)"
   ]
  },
  {
   "cell_type": "markdown",
   "metadata": {},
   "source": [
    "#### Validation & Accuracy"
   ]
  },
  {
   "cell_type": "code",
   "execution_count": 61,
   "metadata": {},
   "outputs": [
    {
     "name": "stdout",
     "output_type": "stream",
     "text": [
      "Mean Absolute Error: 0.012184189079054605\n",
      "Mean Squared Error: 0.020171149144254278\n",
      "Root Mean Squared Error: 0.1420251708122693\n"
     ]
    }
   ],
   "source": [
    "# evaluating the algorithm\n",
    "print('Mean Absolute Error:', metrics.mean_absolute_error(y_test, rf_y_pred))\n",
    "print('Mean Squared Error:', metrics.mean_squared_error(y_test, rf_y_pred))\n",
    "print('Root Mean Squared Error:', np.sqrt(metrics.mean_squared_error(y_test, rf_y_pred)))"
   ]
  },
  {
   "cell_type": "code",
   "execution_count": 62,
   "metadata": {},
   "outputs": [
    {
     "name": "stdout",
     "output_type": "stream",
     "text": [
      "Random Forest Accuracy: 0.9918092909535452 \n",
      "\n",
      "              precision    recall  f1-score   support\n",
      "\n",
      "           1       0.96      0.91      0.93       122\n",
      "           2       1.00      1.00      1.00      8941\n",
      "           3       0.99      0.99      0.99      6287\n",
      "           4       0.99      0.99      0.99      6068\n",
      "           5       0.96      0.97      0.97      1428\n",
      "           6       0.99      0.99      0.99      1694\n",
      "\n",
      "    accuracy                           0.99     24540\n",
      "   macro avg       0.98      0.97      0.98     24540\n",
      "weighted avg       0.99      0.99      0.99     24540\n",
      "\n"
     ]
    }
   ],
   "source": [
    "# accuracy statistics\n",
    "print(\"Random Forest Accuracy:\",metrics.accuracy_score(y_test, rf_y_pred), \"\\n\")\n",
    "\n",
    "# create classification report\n",
    "rf_class_report = classification_report(y_test, rf_y_pred)\n",
    "print(rf_class_report)"
   ]
  },
  {
   "cell_type": "code",
   "execution_count": 63,
   "metadata": {},
   "outputs": [
    {
     "data": {
      "text/plain": [
       "<sklearn.metrics._plot.confusion_matrix.ConfusionMatrixDisplay at 0x128ea7280>"
      ]
     },
     "execution_count": 63,
     "metadata": {},
     "output_type": "execute_result"
    },
    {
     "data": {
      "image/png": "[encoded data removed]",
      "text/plain": [
       "<Figure size 432x288 with 2 Axes>"
      ]
     },
     "metadata": {},
     "output_type": "display_data"
    }
   ],
   "source": [
    "# creating a confusion matrix\n",
    "plot_confusion_matrix(model_rf, X_test, y_test) "
   ]
  },
  {
   "cell_type": "code",
   "execution_count": 66,
   "metadata": {},
   "outputs": [
    {
     "name": "stdout",
     "output_type": "stream",
     "text": [
      "Cohen’s Kappa Score: 0.9888153154121347\n"
     ]
    }
   ],
   "source": [
    "# cohen´s kappa statistic\n",
    "rf_cohen_kappa = cohen_kappa_score(y_test, rf_y_pred)\n",
    "print(\"Cohen’s Kappa Score:\", rf_cohen_kappa)"
   ]
  },
  {
   "cell_type": "markdown",
   "metadata": {},
   "source": [
    "---"
   ]
  },
  {
   "cell_type": "markdown",
   "metadata": {},
   "source": [
    "Creating a table with all the scores and errors"
   ]
  },
  {
   "cell_type": "code",
   "execution_count": 64,
   "metadata": {
    "jupyter": {
     "source_hidden": true
    }
   },
   "outputs": [],
   "source": [
    "# results table\n",
    "data = [{\"Accuracy\": metrics.accuracy_score(y_test, lr_y_pred), \"Cohen´s Kappa\": cohen_kappa_score(y_test, lr_y_pred), \"MAE\": metrics.mean_absolute_error(y_test, lr_y_pred), \"MSE\": metrics.mean_squared_error(y_test, lr_y_pred), \"RMSE\": np.sqrt(metrics.mean_squared_error(y_test, lr_y_pred))}, \n",
    "        {\"Accuracy\": metrics.accuracy_score(y_test, svc_y_pred), \"Cohen´s Kappa\": cohen_kappa_score(y_test, svc_y_pred), \"MAE\": metrics.mean_absolute_error(y_test, svc_y_pred) , \"MSE\": metrics.mean_squared_error(y_test, svc_y_pred), \"RMSE\": np.sqrt(metrics.mean_squared_error(y_test, svc_y_pred))},\n",
    "       {\"Accuracy\": metrics.accuracy_score(y_test, rf_y_pred), \"Cohen´s Kappa\": cohen_kappa_score(y_test, rf_y_pred), \"MAE\": metrics.mean_absolute_error(y_test, rf_y_pred) , \"MSE\": metrics.mean_squared_error(y_test, rf_y_pred), \"RMSE\": np.sqrt(metrics.mean_squared_error(y_test, rf_y_pred))}]\n",
    "\n",
    "results = pd.DataFrame(data, index =[\"Logistic Regression\", \n",
    "                                 \"SVC\", \"Random Forest\"],\n",
    "                   columns =[\"Accuracy\", \"Cohen´s Kappa\", \"MAE\", \"MSE\", \"RMSE\"]) "
   ]
  },
  {
   "cell_type": "markdown",
   "metadata": {},
   "source": [
    "---"
   ]
  },
  {
   "cell_type": "markdown",
   "metadata": {},
   "source": [
    "## Conclusions and Future Work"
   ]
  },
  {
   "cell_type": "markdown",
   "metadata": {},
   "source": [
    "Once completed the training of the models, we see that all three produced high accuracies, however focusing just on the accuracy it can be misleading as we are working with an imbalance dataset and the accuracy might be only reflecting the underlying class distribution. \n",
    "\n",
    "To ensure the results obtained are reliable and our models are robust, I also computed other performance measure: Precision, Recall, F1-score, Cohen´s Kappa and confusion matrix. \n",
    "\n",
    "As we can see on the tables below, all the measures provided strong results with values close to 1 and low errors. \n",
    "The Cohen´s Kappa for all the models confirms the high level of agreement, which ensures that the accuracies obtained are not due to a class been larger than the rest.  \n",
    "\n",
    "\n",
    "\n",
    "*Future Work* \n",
    "\n",
    "The model that presented the best scores is the Random Forest Classifier, hence I would continue to work on its robustnes.\n",
    "\n",
    "To improve the model I would: \n",
    "\n",
    "- Balance the dataset\n",
    "    - Collecting more examples of minor classes. \n",
    "    - Resampling the dataset either by over-sampling or under-sampling.\n",
    "    - Synthetic Samples (SMOTE)\n",
    "    \n",
    "    \n",
    "- Fine tuning parameters\n",
    "    - GridSearch with Cross Validation\n",
    "    - RandomizedSearchCV"
   ]
  },
  {
   "cell_type": "code",
   "execution_count": 65,
   "metadata": {
    "jupyter": {
     "source_hidden": true
    }
   },
   "outputs": [
    {
     "name": "stdout",
     "output_type": "stream",
     "text": [
      "PERFORMANCE MEASURES \n",
      "\n",
      "                     Accuracy  Cohen´s Kappa       MAE       MSE      RMSE\n",
      "Logistic Regression  0.926528       0.899539  0.097392  0.145966  0.382055\n",
      "SVC                  0.962469       0.948671  0.053382  0.086797  0.294613\n",
      "Random Forest        0.991809       0.988815  0.012184  0.020171  0.142025 \n",
      "\n",
      "LOGISTIC REGRESSION CLASS REPORT\n",
      "\n",
      "              precision    recall  f1-score   support\n",
      "\n",
      "           1       0.00      0.00      0.00       122\n",
      "           2       0.99      0.99      0.99      8941\n",
      "           3       0.93      0.94      0.93      6287\n",
      "           4       0.93      0.93      0.93      6068\n",
      "           5       0.64      0.66      0.65      1428\n",
      "           6       0.84      0.85      0.84      1694\n",
      "\n",
      "    accuracy                           0.93     24540\n",
      "   macro avg       0.72      0.73      0.72     24540\n",
      "weighted avg       0.92      0.93      0.92     24540\n",
      " \n",
      "\n",
      "SVC CLASS REPORT \n",
      "\n",
      "              precision    recall  f1-score   support\n",
      "\n",
      "           1       1.00      0.02      0.03       122\n",
      "           2       0.99      0.99      0.99      8941\n",
      "           3       0.96      0.98      0.97      6287\n",
      "           4       0.97      0.97      0.97      6068\n",
      "           5       0.81      0.83      0.82      1428\n",
      "           6       0.91      0.90      0.90      1694\n",
      "\n",
      "    accuracy                           0.96     24540\n",
      "   macro avg       0.94      0.78      0.78     24540\n",
      "weighted avg       0.96      0.96      0.96     24540\n",
      " \n",
      "\n",
      "RANDOM FOREST CLASS REPORT\n",
      "              precision    recall  f1-score   support\n",
      "\n",
      "           1       0.96      0.91      0.93       122\n",
      "           2       1.00      1.00      1.00      8941\n",
      "           3       0.99      0.99      0.99      6287\n",
      "           4       0.99      0.99      0.99      6068\n",
      "           5       0.96      0.97      0.97      1428\n",
      "           6       0.99      0.99      0.99      1694\n",
      "\n",
      "    accuracy                           0.99     24540\n",
      "   macro avg       0.98      0.97      0.98     24540\n",
      "weighted avg       0.99      0.99      0.99     24540\n",
      "\n"
     ]
    }
   ],
   "source": [
    "print(\"PERFORMANCE MEASURES \\n\")\n",
    "print(results, \"\\n\")\n",
    "print(\"LOGISTIC REGRESSION CLASS REPORT\\n\")\n",
    "print(lr_class_report,\"\\n\")\n",
    "print(\"SVC CLASS REPORT \\n\")\n",
    "print(svc_class_report,\"\\n\")\n",
    "print(\"RANDOM FOREST CLASS REPORT\")\n",
    "print(rf_class_report)"
   ]
  },
  {
   "cell_type": "code",
   "execution_count": null,
   "metadata": {},
   "outputs": [],
   "source": []
  }
 ],
 "metadata": {
  "kernelspec": {
   "display_name": "Python 3",
   "language": "python",
   "name": "python3"
  },
  "language_info": {
   "codemirror_mode": {
    "name": "ipython",
    "version": 3
   },
   "file_extension": ".py",
   "mimetype": "text/x-python",
   "name": "python",
   "nbconvert_exporter": "python",
   "pygments_lexer": "ipython3",
   "version": "3.8.6"
  }
 },
 "nbformat": 4,
 "nbformat_minor": 4
}
